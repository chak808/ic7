{
 "cells": [
  {
   "cell_type": "code",
   "execution_count": 42,
   "metadata": {},
   "outputs": [
    {
     "name": "stdout",
     "output_type": "stream",
     "text": [
      "25.0\n",
      "47.5\n",
      "95.65\n",
      "25.0\n",
      "50.0\n",
      "96.9\n",
      "25.0\n",
      "47.5\n",
      "89.4\n",
      "20.0\n",
      "45.0\n",
      "94.4\n",
      "25.0\n",
      "48.75\n",
      "97.5\n",
      "25.0\n",
      "47.5\n",
      "91.9\n"
     ]
    }
   ],
   "source": [
    "\"\"\"\n",
    "Chak Hon Lam\n",
    "open inclass7.cvs for read, save as infile\n",
    "read lines from infile, save as lines\n",
    "create list, save as firstNames\n",
    "create list, save as lastNames\n",
    "create list, save as overallScores\n",
    "save the last line of the file as weightString\n",
    "strip and split tab from weightString\n",
    "for i in range 2 to last line of the file:\n",
    "    strip ad split tab from every line in range\n",
    "    save 0 to totalWeightedScore\n",
    "    save 0 to totalWeightedScore\n",
    "    for j in range 1 to 3:\n",
    "        relpace % with blank for each token in range\n",
    "        float modscore, save as score\n",
    "        float \n",
    "\"\"\"\n",
    "infile = open(\"inclass7.csv\",\"r\")\n",
    "lines = infile.readlines()\n",
    "infile.close\n",
    "firstNames = []\n",
    "lastNames = []\n",
    "overallScores = []\n",
    "weightString = lines[len(lines)-1]\n",
    "weights = weightString.strip().split(\"\\t\")\n",
    "for i in range(2,len(lines)-1):\n",
    "    tokens = lines[i].strip().split(\"\\t\")\n",
    "    totalWeightedScore = 0\n",
    "    totalScore = 0\n",
    "    for j in range(1,len(tokens)):\n",
    "        modscore = tokens[j].replace(\"%\",\"\")\n",
    "        score = float(modscore)\n",
    "        weight = float(weights[j])\n",
    "        totalWeightedScore+=score*weight\n",
    "        "
   ]
  },
  {
   "cell_type": "code",
   "execution_count": null,
   "metadata": {},
   "outputs": [],
   "source": []
  }
 ],
 "metadata": {
  "kernelspec": {
   "display_name": "Python 3",
   "language": "python",
   "name": "python3"
  },
  "language_info": {
   "codemirror_mode": {
    "name": "ipython",
    "version": 3
   },
   "file_extension": ".py",
   "mimetype": "text/x-python",
   "name": "python",
   "nbconvert_exporter": "python",
   "pygments_lexer": "ipython3",
   "version": "3.5.2"
  }
 },
 "nbformat": 4,
 "nbformat_minor": 2
}
